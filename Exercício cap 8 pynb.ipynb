{
 "cells": [
  {
   "cell_type": "code",
   "execution_count": 1,
   "metadata": {},
   "outputs": [
    {
     "name": "stdout",
     "output_type": "stream",
     "text": [
      "Escreva o número de sua matricula180137786\n",
      "Você deverá entregar os exercícios:  [182, 181]\n"
     ]
    }
   ],
   "source": [
    "#Nome: Luiz Gustavo Jordão Graciano\n",
    "#Matrícula: 18/0137786\n",
    "\n",
    "import random\n",
    "\n",
    "def escolhe(matricula):\n",
    "    random.seed(matricula)\n",
    "    cap8 = (174,175,176,177,179,181,182,185)\n",
    "    return(random.sample(cap8, k=2))\n",
    "\n",
    "print(\"Você deverá entregar os exercícios: \", escolhe(input(\"Escreva o número de sua matricula\")))\n"
   ]
  },
  {
   "cell_type": "code",
   "execution_count": 182,
   "metadata": {},
   "outputs": [
    {
     "name": "stdout",
     "output_type": "stream",
     "text": [
      "Digite o montante desejado: 1.05\n",
      "Digite com quantas moedas quer o montante expresso: 7\n",
      "A sequência do montante 1.05 com 7 moedas é: (0.25, 0.25, 0.25, 0.1, 0.1, 0.05, 0.05)\n",
      "\n"
     ]
    }
   ],
   "source": [
    "#Exercícios Obrigatórios [181,182]\n",
    "\n",
    "#Exercício 181 ->\n",
    "\n",
    "from itertools import combinations_with_replacement #queremos as combinações possíveis dos valores\n",
    "\n",
    "lista_moedas = [0.25,0.1,0.05,0.01] #valor das moedas\n",
    "\n",
    "coins_comb= ''\n",
    "valid = True\n",
    "cont = 0\n",
    "n_combinações = 0\n",
    "def moeda_combination(montante, n_moedas): \n",
    "    global coins_comb\n",
    "    global valid\n",
    "    global cont\n",
    "    global n_combinações\n",
    "    if valid == True: \n",
    "        coins_comb = combinations_with_replacement(lista_moedas, n_moedas) #todas as combinaçoes dos valores de n_moedas.\n",
    "        n_combinações = len(list(combinations_with_replacement(lista_moedas, n_moedas)))\n",
    "        valid = False #não rodar outra vez as combinações\n",
    "    atual_comb = next(coins_comb) #Dado as iterações sendo listas em ordem pseudo-decrescente, isto é, estamos procurando em cada uma delas.\n",
    "    if montante != round(sum(atual_comb),4): #Entra apenas se o dinheiro for igual a combinação (caso a o dinheiro não possa ser espresso na actual_comb o código será pesado para n_moedas grandes)\n",
    "        cont += 1\n",
    "        if cont > n_combinações: #Percorreu todas as combinações e não encontrou o dinheiro dado. \n",
    "            print(False)\n",
    "        else: \n",
    "            return check_coins(montante, n_moedas)#funciona como um loop unsando a função 'next'\n",
    "    else: \n",
    "        print('A sequência do montante',montante,'com',n_moedas,'moedas é:', atual_comb)\n",
    "        return ''\n",
    "\n",
    "\n",
    "montante = float(input('Digite o montante desejado: '))\n",
    "n_moedas = int(input('Digite com quantas moedas quer o montante expresso: '))\n",
    "    \n",
    "print(moeda_combination(montante,n_moedas))\n",
    "\n",
    "#Obs: Este código não é nada eficiente dado que é avaliado todas as combinações possiveis das n_moedas e compara se o nosso valor pode ser formado por algum dessas combinações. "
   ]
  },
  {
   "cell_type": "code",
   "execution_count": 226,
   "metadata": {},
   "outputs": [
    {
     "name": "stdout",
     "output_type": "stream",
     "text": [
      "----------------------------------------\n",
      "['H', 'He', 'Li', 'Be', 'B', 'C', 'N', 'O', 'F', 'Ne'] ...\n",
      "----------------------------------------\n",
      "['Hydrogen', 'Helium', 'Lithium', 'Beryllium', 'Boron', 'Carbon', 'Nitrogen', 'Oxygen', 'Fluorine', 'Neon'] ...\n",
      "----------------------------------------\n",
      "A palavra silver pode ser escrita como silver\n",
      "----------------------------------------\n"
     ]
    },
    {
     "ename": "IndexError",
     "evalue": "string index out of range",
     "output_type": "error",
     "traceback": [
      "\u001b[1;31m---------------------------------------------------------------------------\u001b[0m",
      "\u001b[1;31mIndexError\u001b[0m                                Traceback (most recent call last)",
      "\u001b[1;32m<ipython-input-226-4949926f134e>\u001b[0m in \u001b[0;36m<module>\u001b[1;34m\u001b[0m\n\u001b[0;32m     68\u001b[0m \u001b[1;32mfor\u001b[0m \u001b[0mi\u001b[0m \u001b[1;32min\u001b[0m \u001b[0mrange\u001b[0m\u001b[1;33m(\u001b[0m\u001b[1;36m118\u001b[0m\u001b[1;33m)\u001b[0m\u001b[1;33m:\u001b[0m\u001b[1;33m\u001b[0m\u001b[1;33m\u001b[0m\u001b[0m\n\u001b[0;32m     69\u001b[0m     \u001b[0melement_quimico\u001b[0m \u001b[1;33m=\u001b[0m \u001b[0mstr\u001b[0m\u001b[1;33m(\u001b[0m\u001b[0melementos_quimicos\u001b[0m\u001b[1;33m[\u001b[0m\u001b[0mi\u001b[0m\u001b[1;33m]\u001b[0m\u001b[1;33m)\u001b[0m \u001b[1;31m#tranforma cada palavra em unico elemento\u001b[0m\u001b[1;33m\u001b[0m\u001b[1;33m\u001b[0m\u001b[0m\n\u001b[1;32m---> 70\u001b[1;33m     \u001b[0mquim_elem_soletrando\u001b[0m\u001b[1;33m(\u001b[0m\u001b[0melement_quimico\u001b[0m\u001b[1;33m,\u001b[0m \u001b[0mlista_todos_simbolos\u001b[0m\u001b[1;33m)\u001b[0m\u001b[1;33m\u001b[0m\u001b[1;33m\u001b[0m\u001b[0m\n\u001b[0m",
      "\u001b[1;32m<ipython-input-226-4949926f134e>\u001b[0m in \u001b[0;36mquim_elem_soletrando\u001b[1;34m(palavra, simbolos)\u001b[0m\n\u001b[0;32m     26\u001b[0m             \u001b[1;32mreturn\u001b[0m \u001b[0mquim_elem_soletrando\u001b[0m\u001b[1;33m(\u001b[0m\u001b[0mpalavra\u001b[0m\u001b[1;33m,\u001b[0m \u001b[0msimbolos\u001b[0m\u001b[1;33m)\u001b[0m\u001b[1;33m\u001b[0m\u001b[1;33m\u001b[0m\u001b[0m\n\u001b[0;32m     27\u001b[0m     \u001b[1;31m#Quando símbolo tem 3 letra ->\u001b[0m\u001b[1;33m\u001b[0m\u001b[1;33m\u001b[0m\u001b[1;33m\u001b[0m\u001b[0m\n\u001b[1;32m---> 28\u001b[1;33m     \u001b[1;32melif\u001b[0m \u001b[1;33m(\u001b[0m\u001b[0mpalavra\u001b[0m\u001b[1;33m[\u001b[0m\u001b[0mcont\u001b[0m\u001b[1;33m]\u001b[0m\u001b[1;33m+\u001b[0m\u001b[0mpalavra\u001b[0m\u001b[1;33m[\u001b[0m\u001b[0mcont\u001b[0m\u001b[1;33m+\u001b[0m\u001b[1;36m1\u001b[0m\u001b[1;33m]\u001b[0m\u001b[1;33m+\u001b[0m\u001b[0mpalavra\u001b[0m\u001b[1;33m[\u001b[0m\u001b[0mcont\u001b[0m\u001b[1;33m+\u001b[0m\u001b[1;36m2\u001b[0m\u001b[1;33m]\u001b[0m\u001b[1;33m)\u001b[0m\u001b[1;33m.\u001b[0m\u001b[0mcapitalize\u001b[0m\u001b[1;33m(\u001b[0m\u001b[1;33m)\u001b[0m \u001b[1;32min\u001b[0m \u001b[0msimbolos\u001b[0m\u001b[1;33m:\u001b[0m\u001b[1;33m\u001b[0m\u001b[1;33m\u001b[0m\u001b[0m\n\u001b[0m\u001b[0;32m     29\u001b[0m         \u001b[0mform_palavra\u001b[0m \u001b[1;33m+=\u001b[0m \u001b[1;33m(\u001b[0m\u001b[0mpalavra\u001b[0m\u001b[1;33m[\u001b[0m\u001b[0mcont\u001b[0m\u001b[1;33m]\u001b[0m\u001b[1;33m+\u001b[0m\u001b[0mpalavra\u001b[0m\u001b[1;33m[\u001b[0m\u001b[0mcont\u001b[0m\u001b[1;33m+\u001b[0m\u001b[1;36m1\u001b[0m\u001b[1;33m]\u001b[0m\u001b[1;33m+\u001b[0m\u001b[0mpalavra\u001b[0m\u001b[1;33m[\u001b[0m\u001b[0mcont\u001b[0m\u001b[1;33m+\u001b[0m\u001b[1;36m2\u001b[0m\u001b[1;33m]\u001b[0m\u001b[1;33m)\u001b[0m \u001b[1;31m#form_palavra assume as 3 letras contidas nos símbolos\u001b[0m\u001b[1;33m\u001b[0m\u001b[1;33m\u001b[0m\u001b[0m\n\u001b[0;32m     30\u001b[0m         \u001b[0mcont\u001b[0m \u001b[1;33m+=\u001b[0m \u001b[1;36m3\u001b[0m\u001b[1;33m\u001b[0m\u001b[1;33m\u001b[0m\u001b[0m\n",
      "\u001b[1;31mIndexError\u001b[0m: string index out of range"
     ]
    }
   ],
   "source": [
    "#Exercício 182 ->\n",
    "cont = 0\n",
    "form_palavra = ''\n",
    "def quim_elem_soletrando(palavra, simbolos):\n",
    "    global cont\n",
    "    global form_palavra\n",
    "    palavra = palavra.casefold()\n",
    "    tamanho_palav = len(palavra)\n",
    "    #Quando símbolo tem 1 letra ->\n",
    "    if palavra[cont].capitalize() in simbolos: \n",
    "        form_palavra += palavra[cont] #form_palavra assume as 1 letras contidas nos símbolos\n",
    "        cont += 1\n",
    "        if cont == tamanho_palav:\n",
    "            print('A palavra',palavra,'pode ser escrita como',form_palavra)\n",
    "            return ''\n",
    "        else: \n",
    "            return quim_elem_soletrando(palavra, simbolos)\n",
    "    #Quando símbolo tem 2 letra ->\n",
    "    elif (palavra[cont]+palavra[cont+1]).capitalize() in simbolos: \n",
    "        form_palavra += (palavra[cont]+palavra[cont+1]) #form_palavra assume as 2 letras contidas nos símbolos\n",
    "        cont += 2\n",
    "        if cont == tamanho_palav: \n",
    "            print('A palavra',palavra,'pode ser escrita como',form_palavra)\n",
    "            return ''\n",
    "        else: \n",
    "            return quim_elem_soletrando(palavra, simbolos)\n",
    "    #Quando símbolo tem 3 letra ->    \n",
    "    elif (palavra[cont]+palavra[cont+1]+palavra[cont+2]).capitalize() in simbolos: \n",
    "        form_palavra += (palavra[cont]+palavra[cont+1]+palavra[cont+2]) #form_palavra assume as 3 letras contidas nos símbolos\n",
    "        cont += 3\n",
    "        if cont == tamanho_palav: \n",
    "            print('A palavra',palavra,'pode ser escrita como',form_palavra)\n",
    "            return ''\n",
    "        else: \n",
    "            return quim_elem_soletrando(palavra, simbolos)\n",
    "    else: \n",
    "        return False\n",
    "\n",
    "print('----------------------------------------')\n",
    "\n",
    "#dados dos elementos quimicos\n",
    "arquivo_elementos = open('C:/Users/GUSTAVO/Desktop/elementos.txt', \"r\")\n",
    "arq_elementos = arquivo_elementos.read().split('\\n')\n",
    "\n",
    "for i in range (118):\n",
    "    arq_elementos[i] = arq_elementos[i].split(',') #gera 118 listas com cada uma com as informações de cada elemento\n",
    "\n",
    "lista_todos_simbolos = [] #juntando tudo para usar na função acima\n",
    "\n",
    "for i in range(118):\n",
    "    lista_todos_simbolos.append(arq_elementos[i][1])\n",
    "print(lista_todos_simbolos[0:10],'...')\n",
    "\n",
    "print('----------------------------------------')\n",
    "\n",
    "#Agora temos que verificas quais elementos químicos podem ser soletrados por esses símbolos, isto é, a nossa função vai receber cada elemento quimico!\n",
    "elementos_quimicos = []\n",
    "for i in range(118):\n",
    "    elementos_quimicos.append(arq_elementos[i][2])\n",
    "print(elementos_quimicos[0:10],'...')\n",
    "\n",
    "print('----------------------------------------')\n",
    "\n",
    "#Programa serve para achar se a palavra pode ser escrita por símbolos porém implementação da errada :(\n",
    "simbolos = ['Si','Lv','Er']    \n",
    "quim_elem_soletrando('Silver', simbolos)   \n",
    "print('----------------------------------------')\n",
    "for i in range(118):\n",
    "    element_quimico = str(elementos_quimicos[i]) #tranforma cada palavra em unico elemento\n",
    "    quim_elem_soletrando(element_quimico, lista_todos_simbolos)\n"
   ]
  },
  {
   "cell_type": "code",
   "execution_count": 234,
   "metadata": {},
   "outputs": [
    {
     "name": "stdout",
     "output_type": "stream",
     "text": [
      "['Eae', 'Eae', '?', '?', '?', 'suave', 'suave', 'suave', 'suave', 'suave', 'suave', 'suave', 'suave', 'suave']\n"
     ]
    }
   ],
   "source": [
    "#Exercício Opcional [185] ->\n",
    "cont = 0\n",
    "lista_decomposta = []\n",
    "def decomp(lista):\n",
    "    global lista_decomposta\n",
    "    global cont\n",
    "    letra = lista[cont]\n",
    "    repetição = lista[cont+1]\n",
    "    for repetição in range(rep): #Saber quantas vezes a lista[cont] repete e juntar na lista_decomposta\n",
    "        lista_decomposta.append(letra)\n",
    "    \n",
    "    cont += 2 #dado que para rapetição pulamos 2 índices da lista.\n",
    "    if cont < len(lista):\n",
    "        decomp(lista)\n",
    "    else: \n",
    "        print(lista_decomposta)\n",
    "\n",
    "def main(): \n",
    "    lista = ['Eae',2,'?',3,'suave',9]\n",
    "    decomp(lista)\n",
    "\n",
    "main()"
   ]
  }
 ],
 "metadata": {
  "kernelspec": {
   "display_name": "Python 3",
   "language": "python",
   "name": "python3"
  },
  "language_info": {
   "codemirror_mode": {
    "name": "ipython",
    "version": 3
   },
   "file_extension": ".py",
   "mimetype": "text/x-python",
   "name": "python",
   "nbconvert_exporter": "python",
   "pygments_lexer": "ipython3",
   "version": "3.8.5"
  }
 },
 "nbformat": 4,
 "nbformat_minor": 4
}
